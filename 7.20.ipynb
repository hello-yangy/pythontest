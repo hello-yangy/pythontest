{
 "cells": [
  {
   "cell_type": "markdown",
   "metadata": {},
   "source": [
    "# 函数\n",
    "\n",
    "- 函数可以用来定义可重复代码，组织和简化\n",
    "- 一般来说一个函数在实际开发中为一个小功能\n",
    "- 一个类为一个大功能\n",
    "- 同样函数的长度不要超过一屏"
   ]
  },
  {
   "cell_type": "code",
   "execution_count": 1,
   "metadata": {},
   "outputs": [],
   "source": [
    "#自定义函数\n",
    "def first_fun():\n",
    "    \"\"\"\n",
    "    注释、解释的内容\n",
    "    代码说明可以有 \n",
    "    \"\"\"\n",
    "    print(\"hahhahahahha\")\n",
    "    pass"
   ]
  },
  {
   "cell_type": "markdown",
   "metadata": {},
   "source": [
    "## 定义一个函数\n",
    "\n",
    "def function_name(list of parameters):\n",
    "    \n",
    "    do something\n",
    "![](../Photo/69.png)\n",
    "- 以前使用的random 或者range 或者print.. 其实都是函数或者类"
   ]
  },
  {
   "cell_type": "code",
   "execution_count": 3,
   "metadata": {},
   "outputs": [],
   "source": [
    "#和下边的是一组，演示自定义函数的定义和调用\n",
    "def first_fun(name,name1):\n",
    "    #参数可以是多个\n",
    "    print(\"神仙{},{}号\".format(name,name1))"
   ]
  },
  {
   "cell_type": "code",
   "execution_count": 4,
   "metadata": {},
   "outputs": [
    {
     "name": "stdout",
     "output_type": "stream",
     "text": [
      "神仙yza,qqq号\n"
     ]
    }
   ],
   "source": [
    "first_fun('yza','qqq')"
   ]
  },
  {
   "cell_type": "code",
   "execution_count": 8,
   "metadata": {},
   "outputs": [
    {
     "name": "stdout",
     "output_type": "stream",
     "text": [
      ">>89\n"
     ]
    }
   ],
   "source": [
    "def jiou(num,is_print=True):\n",
    "    if num % 2 == 0:\n",
    "        if is_print:\n",
    "             print(str(num)+\"是一个偶数\")\n",
    "    if num % 2 != 0:\n",
    "        if is_print:\n",
    "             print(str(num)+\"是一个奇数\")\n",
    "\n",
    "\n",
    "a=eval(input(\">>\"))\n",
    "jiou(num=a,is_print=False)\n",
    "#jiou(num=a)"
   ]
  },
  {
   "cell_type": "code",
   "execution_count": 12,
   "metadata": {},
   "outputs": [
    {
     "name": "stdout",
     "output_type": "stream",
     "text": [
      "qq说，你真是一个小天才\n"
     ]
    }
   ],
   "source": [
    "def fun1(name):\n",
    "    print(name,end=\"\")\n",
    "    fun2()\n",
    "    \n",
    "def fun2():\n",
    "    print(\"说，你真是一个小天才\")\n",
    "\n",
    "\n",
    "fun1('qq')"
   ]
  },
  {
   "cell_type": "code",
   "execution_count": 14,
   "metadata": {},
   "outputs": [
    {
     "name": "stdout",
     "output_type": "stream",
     "text": [
      "1是奇数\n",
      "2是偶数\n",
      "3是奇数\n",
      "4是偶数\n",
      "5是奇数\n",
      "6是偶数\n",
      "7是奇数\n",
      "8是偶数\n",
      "9是奇数\n",
      "10是偶数\n"
     ]
    }
   ],
   "source": [
    "def jishu(number):\n",
    "    if number % 2 != 0 :\n",
    "        print(str(number)+\"是奇数\")\n",
    "    else:\n",
    "        oushu(number)\n",
    "        \n",
    "def oushu(number):\n",
    "    if number % 2 == 0 :\n",
    "        print(str(number)+\"是偶数\")\n",
    "\n",
    "for i in range(1,11):\n",
    "    jishu(i)"
   ]
  },
  {
   "cell_type": "markdown",
   "metadata": {},
   "source": [
    "#md5\n",
    "def password():\n",
    "    pass\n",
    "\n",
    "def md5():\n",
    "    pass\n",
    "\n",
    "def result():\n",
    "    pass"
   ]
  },
  {
   "cell_type": "code",
   "execution_count": 40,
   "metadata": {},
   "outputs": [
    {
     "data": {
      "text/plain": [
       "'dae6f921e72ac09fcbd40d9ed9d1852f'"
      ]
     },
     "execution_count": 40,
     "metadata": {},
     "output_type": "execute_result"
    }
   ],
   "source": [
    "#md5\n",
    "import hashlib\n",
    "\n",
    "date='This a md5 test@'\n",
    "hash_md5 = hashlib.md5(date.encode(\"utf8\"))\n",
    "hash_md5.hexdigest()"
   ]
  },
  {
   "cell_type": "code",
   "execution_count": 61,
   "metadata": {},
   "outputs": [
    {
     "name": "stdout",
     "output_type": "stream",
     "text": [
      ">>love\n",
      "你的密码输入正确\n"
     ]
    }
   ],
   "source": [
    "#md5\n",
    "import hashlib\n",
    "\n",
    "#数据库里的密码\n",
    "date='love'\n",
    "hash_md5 = hashlib.md5(date.encode())\n",
    "init_passwd = hash_md5.hexdigest()\n",
    "\n",
    "#  ajax登录的明文密码\n",
    "def password(passwd):\n",
    "    md5(passwd)  #进行md5摘要\n",
    "# md5摘要\n",
    "def md5(passwd):\n",
    "    hash_md5 = hashlib.md5(passwd.encode())\n",
    "    input_passed = hash_md5.hexdigest()#输入的md5摘要密码\n",
    "\n",
    "    if init_passwd == input_passed:\n",
    "        print(\"你的密码输入正确\")\n",
    "    else:\n",
    "        print(\"错了\")\n",
    "\n",
    "def result(res):\n",
    "    print(res)\n",
    "        \n",
    "\n",
    "q=str(input(\">>\"))\n",
    "password(q)\n",
    "\n"
   ]
  },
  {
   "cell_type": "markdown",
   "metadata": {},
   "source": [
    "## 调用一个函数\n",
    "- functionName()\n",
    "- \"()\" 就代表调用"
   ]
  },
  {
   "cell_type": "markdown",
   "metadata": {},
   "source": [
    "![](../Photo/70.png)"
   ]
  },
  {
   "cell_type": "markdown",
   "metadata": {},
   "source": [
    "## 带返回值和不带返回值的函数\n",
    "- return 返回的内容\n",
    "- return 返回多个值\n",
    "- 一般情况下，在多个函数协同完成一个功能的时候，那么将会有返回值"
   ]
  },
  {
   "cell_type": "markdown",
   "metadata": {},
   "source": [
    "![](../Photo/71.png)\n",
    "\n",
    "- 当然也可以自定义返回None"
   ]
  },
  {
   "cell_type": "markdown",
   "metadata": {},
   "source": [
    "## EP：\n",
    "![](../Photo/72.png)"
   ]
  },
  {
   "cell_type": "markdown",
   "metadata": {},
   "source": [
    "## 类型和关键字参数\n",
    "- 普通参数\n",
    "- 多个参数\n",
    "- 默认值参数\n",
    "- 不定长参数"
   ]
  },
  {
   "cell_type": "markdown",
   "metadata": {},
   "source": [
    "## 普通参数"
   ]
  },
  {
   "cell_type": "markdown",
   "metadata": {},
   "source": [
    "## 多个参数"
   ]
  },
  {
   "cell_type": "markdown",
   "metadata": {},
   "source": [
    "## 默认值参数"
   ]
  },
  {
   "cell_type": "code",
   "execution_count": null,
   "metadata": {},
   "outputs": [],
   "source": [
    "#默认参数要放在最后面"
   ]
  },
  {
   "cell_type": "markdown",
   "metadata": {},
   "source": [
    "## 强制命名"
   ]
  },
  {
   "cell_type": "code",
   "execution_count": 97,
   "metadata": {},
   "outputs": [
    {
     "name": "stdout",
     "output_type": "stream",
     "text": [
      "name\n",
      "name2\n",
      "a\n"
     ]
    }
   ],
   "source": [
    "def test(name1,name2,*,a):#*表示强制命名\n",
    "    print(name1)\n",
    "    print(name2)\n",
    "    print(a)\n",
    "\n",
    "#①\n",
    "test('name','name2',a='a')\n",
    "\n"
   ]
  },
  {
   "cell_type": "markdown",
   "metadata": {},
   "source": [
    "## 不定长参数\n",
    "- \\*args\n",
    "> - 不定长，来多少装多少，不装也是可以的\n",
    "  - 返回的数据类型是元组\n",
    "  - args 名字是可以修改的，只是我们约定俗成的是args\n",
    "- \\**kwargs \n",
    "> - 返回的字典\n",
    "  - 输入的一定要是表达式（键值对）"
   ]
  },
  {
   "cell_type": "code",
   "execution_count": 93,
   "metadata": {},
   "outputs": [
    {
     "name": "stdout",
     "output_type": "stream",
     "text": [
      "(1, 2, 3, 4, 5, 6, 7, 8, 9, '5')\n"
     ]
    }
   ],
   "source": [
    "#*加变量名，称为不定长参数，又称。。。下水道\n",
    "def test2(*args):\n",
    "    print(args)\n",
    "    \n",
    "    \n",
    "test2(1,2,3,4,5,6,7,8,9,'5')"
   ]
  },
  {
   "cell_type": "code",
   "execution_count": 94,
   "metadata": {},
   "outputs": [
    {
     "name": "stdout",
     "output_type": "stream",
     "text": [
      "(1, 2, 3, 4, 5, 6) 999\n"
     ]
    }
   ],
   "source": [
    "def test3(*args,name):\n",
    "    print(args,name)\n",
    "    \n",
    "#test3(1,2,3,4,5,6，999)  这样不可以，后面不知道参数\n",
    "test3(1,2,3,4,5,6,name='999')"
   ]
  },
  {
   "cell_type": "code",
   "execution_count": 36,
   "metadata": {},
   "outputs": [
    {
     "name": "stdout",
     "output_type": "stream",
     "text": [
      "1 (2, 3, 4, 5, 6)\n"
     ]
    }
   ],
   "source": [
    "def test4(name,*args):\n",
    "    print(name,args,)\n",
    "    \n",
    "    \n",
    "test4(1,2,3,4,5,6)"
   ]
  },
  {
   "cell_type": "code",
   "execution_count": 106,
   "metadata": {},
   "outputs": [
    {
     "name": "stdout",
     "output_type": "stream",
     "text": [
      "{'a': 100, 'c': 200, 'd': 1000}\n"
     ]
    }
   ],
   "source": [
    "def test5(**kwargs):\n",
    "    print(kwargs)\n",
    "    \n",
    "test5(a=100,c=200,d=1000)"
   ]
  },
  {
   "cell_type": "markdown",
   "metadata": {},
   "source": [
    "## 变量的作用域\n",
    "- 局部变量 local\n",
    "- 全局变量 global\n",
    "- globals 函数返回一个全局变量的字典，包括所有导入的变量\n",
    "- locals() 函数会以字典类型返回当前位置的全部局部变量。"
   ]
  },
  {
   "cell_type": "markdown",
   "metadata": {},
   "source": [
    "## 注意：\n",
    "- global ：在进行赋值操作的时候需要声明\n",
    "- 官方解释：This is because when you make an assignment to a variable in a scope, that variable becomes local to that scope and shadows any similarly named variable in the outer scope.\n",
    "- ![](../Photo/73.png)"
   ]
  },
  {
   "cell_type": "markdown",
   "metadata": {},
   "source": [
    "# Homework\n",
    "- 1\n",
    "![](../Photo/74.png)"
   ]
  },
  {
   "cell_type": "code",
   "execution_count": 105,
   "metadata": {},
   "outputs": [
    {
     "name": "stdout",
     "output_type": "stream",
     "text": [
      "1  5  12  22  35  51  70  92  117  145  \n",
      "176  210  247  287  330  376  425  477  532  590  \n",
      "651  715  782  852  925  1001  1080  1162  1247  1335  \n",
      "1426  1520  1617  1717  1820  1926  2035  2147  2262  2380  \n",
      "2501  2625  2752  2882  3015  3151  3290  3432  3577  3725  \n",
      "3876  4030  4187  4347  4510  4676  4845  5017  5192  5370  \n",
      "5551  5735  5922  6112  6305  6501  6700  6902  7107  7315  \n",
      "7526  7740  7957  8177  8400  8626  8855  9087  9322  9560  \n",
      "9801  10045  10292  10542  10795  11051  11310  11572  11837  12105  \n",
      "12376  12650  12927  13207  13490  13776  14065  14357  14652  14950  \n"
     ]
    }
   ],
   "source": [
    "def getPentagonalNumber(n):\n",
    "    a=int(n*(3*n-1)/2)\n",
    "    print(a,end=\"  \")\n",
    "     \n",
    "for i in range(1,101):\n",
    "    getPentagonalNumber(i)\n",
    "    if i % 10 == 0:\n",
    "            print()\n"
   ]
  },
  {
   "cell_type": "markdown",
   "metadata": {},
   "source": [
    "- 2 \n",
    "![](../Photo/75.png)"
   ]
  },
  {
   "cell_type": "markdown",
   "metadata": {},
   "source": [
    "def sumDigits(n):\n",
    "    a=n%10#个\n",
    "    b=(n//10)%10#十\n",
    "    c=(n//10)//10#百\n",
    "    sum=a+b+c\n",
    "    #print(sum,\"(\"+str(a)+\"+\"+str(b)+\"+\"+str(c)+\")\")\n",
    "    return\n",
    "    \n",
    "a=eval(input(\">>\"))\n",
    "sumDigits(a)"
   ]
  },
  {
   "cell_type": "code",
   "execution_count": 122,
   "metadata": {},
   "outputs": [
    {
     "name": "stdout",
     "output_type": "stream",
     "text": [
      ">>468255\n"
     ]
    },
    {
     "data": {
      "text/plain": [
       "30"
      ]
     },
     "execution_count": 122,
     "metadata": {},
     "output_type": "execute_result"
    }
   ],
   "source": [
    "def sumDigits(n):\n",
    "    strn=str(n)\n",
    "    s=0\n",
    "    for i in strn:\n",
    "        s = s + int(i)\n",
    "    return s\n",
    "    \n",
    "a=eval(input(\">>\"))\n",
    "sumDigits(a)"
   ]
  },
  {
   "cell_type": "markdown",
   "metadata": {},
   "source": [
    "- 3\n",
    "![](../Photo/76.png)"
   ]
  },
  {
   "cell_type": "code",
   "execution_count": 7,
   "metadata": {},
   "outputs": [
    {
     "name": "stdout",
     "output_type": "stream",
     "text": [
      ">>>>num1,num2,num3:9,1,3\n",
      "[1, 3, 9]\n"
     ]
    }
   ],
   "source": [
    "def displaySortedNumbers(num1,num2,num3):\n",
    "    \n",
    "    a = [num1,num2,num3]\n",
    "    b=sorted(a)\n",
    "    print(b)\n",
    "\n",
    "num1,num2,num3=eval(input(\">>>>num1,num2,num3:\"))\n",
    "displaySortedNumbers(num1,num2,num3)"
   ]
  },
  {
   "cell_type": "markdown",
   "metadata": {},
   "source": [
    "- 4\n",
    "![](../Photo/77.png)"
   ]
  },
  {
   "cell_type": "code",
   "execution_count": null,
   "metadata": {},
   "outputs": [],
   "source": [
    "#未来投资额 = 投资额(本金) * （1 + 月投资额）^月数"
   ]
  },
  {
   "cell_type": "code",
   "execution_count": 1,
   "metadata": {},
   "outputs": [
    {
     "name": "stdout",
     "output_type": "stream",
     "text": [
      "amount>>>>>>1000\n",
      "rate>>>>>>9\n",
      "Years \t Future Value\n",
      "1 \t 1093.81\n",
      "2 \t 1196.41\n",
      "3 \t 1308.65\n",
      "4 \t 1431.41\n",
      "5 \t 1565.68\n",
      "6 \t 1712.55\n",
      "7 \t 1873.2\n",
      "8 \t 2048.92\n",
      "9 \t 2241.12\n",
      "10 \t 2451.36\n",
      "11 \t 2681.31\n",
      "12 \t 2932.84\n",
      "13 \t 3207.96\n",
      "14 \t 3508.89\n",
      "15 \t 3838.04\n",
      "16 \t 4198.08\n",
      "17 \t 4591.89\n",
      "18 \t 5022.64\n",
      "19 \t 5493.8\n",
      "20 \t 6009.15\n",
      "21 \t 6572.85\n",
      "22 \t 7189.43\n",
      "23 \t 7863.85\n",
      "24 \t 8601.53\n",
      "25 \t 9408.41\n",
      "26 \t 10290.99\n",
      "27 \t 11256.35\n",
      "28 \t 12312.28\n",
      "29 \t 13467.25\n",
      "30 \t 14730.58\n"
     ]
    }
   ],
   "source": [
    "#def futureInvestmentValue(investmentAmount,monthlyInterestRate,year):\n",
    "def futuerInvestmentValue(amount,mothInt,years=30):\n",
    "    print('Years \\t','Future Value')\n",
    "    for i in range(1,years+1):\n",
    "        amount = amount*(1+mothInt/100/12)**12\n",
    "        print(i,'\\t',round(amount,2))\n",
    "\n",
    "amount = eval(input('amount>>>>>>'))\n",
    "rate = eval(input('rate>>>>>>'))\n",
    "futuerInvestmentValue(amount,rate)"
   ]
  },
  {
   "cell_type": "markdown",
   "metadata": {},
   "source": [
    "- 5\n",
    "![](../Photo/78.png)"
   ]
  },
  {
   "cell_type": "code",
   "execution_count": 18,
   "metadata": {},
   "outputs": [
    {
     "name": "stdout",
     "output_type": "stream",
     "text": [
      "I   J   K   L   M   N   O   P   Q   R   \n",
      "S   T   U   V   W   X   Y   Z   "
     ]
    }
   ],
   "source": [
    "def printChars(ch1,ch2,numberPerLine):\n",
    "    chr_ch1=ord(ch1)\n",
    "    chr_ch2=ord(ch2)\n",
    "    j=1\n",
    "    for i in range(chr_ch1,chr_ch2+1):\n",
    "        print(chr(i),end=\"   \")\n",
    "        if j%10==0:\n",
    "            print()\n",
    "        j+=1\n",
    "            \n",
    "printChars('I','Z',10)"
   ]
  },
  {
   "cell_type": "markdown",
   "metadata": {},
   "source": [
    "- 6\n",
    "![](../Photo/79.png)"
   ]
  },
  {
   "cell_type": "code",
   "execution_count": 5,
   "metadata": {},
   "outputs": [
    {
     "name": "stdout",
     "output_type": "stream",
     "text": [
      "2010  365天\n",
      "2011  365天\n",
      "2012  366天\n",
      "2013  365天\n",
      "2014  365天\n",
      "2015  365天\n",
      "2016  366天\n",
      "2017  365天\n",
      "2018  365天\n",
      "2019  365天\n",
      "2020  366天\n"
     ]
    }
   ],
   "source": [
    "def numberOfDaysInAYear(year):\n",
    "    day=365\n",
    "    if (year%4==0 and year%100!=0) or year%400==0:\n",
    "        day=day+1\n",
    "    print(str(year)+\"  \"+str(day)+\"天\")\n",
    "    \n",
    "for i in range(2010,2021):\n",
    "    numberOfDaysInAYear(i)\n",
    "        \n",
    "        "
   ]
  },
  {
   "cell_type": "markdown",
   "metadata": {},
   "source": [
    "- 7\n",
    "![](../Photo/80.png)"
   ]
  },
  {
   "cell_type": "code",
   "execution_count": 16,
   "metadata": {},
   "outputs": [
    {
     "name": "stdout",
     "output_type": "stream",
     "text": [
      "enter x1,y1,x2,y2:0,0,3,4\n",
      "5.0\n"
     ]
    }
   ],
   "source": [
    "#import math\n",
    "def distance(x1,y1,x2,y2):\n",
    "    dis=math.sqrt((y2-y1)**2+(x2-x1)**2)\n",
    "    print(dis)\n",
    "        \n",
    "x1,y1,x2,y2=eval(input(\"enter x1,y1,x2,y2:\"))\n",
    "distance(x1,y1,x2,y2)"
   ]
  },
  {
   "cell_type": "markdown",
   "metadata": {},
   "source": [
    "- 8\n",
    "![](../Photo/81.png)"
   ]
  },
  {
   "cell_type": "code",
   "execution_count": 44,
   "metadata": {},
   "outputs": [
    {
     "name": "stdout",
     "output_type": "stream",
     "text": [
      "[2, 3, 5, 7, 11, 13, 17, 19, 23, 29, 31]\n",
      "p\t2^p-1\n",
      "2\t3\n",
      "3\t7\n",
      "5\t31\n"
     ]
    }
   ],
   "source": [
    "\"\"\"\n",
    "素数判断\n",
    " n= int(input(\"please enter the number：\"))\n",
    "for i in range(2, n):\n",
    "    if n % i == 0:\n",
    "        print(\" %d is not a prime number！\" % n)\n",
    "        break\n",
    "else:\n",
    "    print(\" %d is a prime number！\" % n)\n",
    "\"\"\"\n",
    "\n",
    "\"\"\"\n",
    "def sushu(n):\n",
    "    for i in range(2, n):\n",
    "        if n % i == 0:\n",
    "            break\n",
    "    else:\n",
    "        return n\n",
    "\"\"\"\n",
    "\n",
    "a=[]\n",
    "for i in range(2,32):\n",
    "    #sushu(i)\n",
    "    #a.append(sushu(i))\n",
    "    for j in range(2,i):\n",
    "        if i % j == 0:\n",
    "            break\n",
    "    else:\n",
    "        a.append(i)\n",
    "        \n",
    "print(a)\n",
    "\n",
    "\n",
    "print(\"p\\t2^p-1\")\n",
    "for p in a:\n",
    "    # print(str(p)+\"\\t\"+str(2**p-1)\n",
    "    w=2**p-1\n",
    "    for e in a:\n",
    "        if w==e:\n",
    "            print(str(p)+\"\\t\"+str(2**p-1))\n",
    "        \n"
   ]
  },
  {
   "cell_type": "code",
   "execution_count": null,
   "metadata": {},
   "outputs": [
    {
     "name": "stdout",
     "output_type": "stream",
     "text": [
      "p  \t 2^p-1\n",
      "2 \t 3\n",
      "3 \t 7\n",
      "5 \t 31\n"
     ]
    }
   ],
   "source": [
    "def sushu(m):\n",
    "    if m == 2:\n",
    "        return 1\n",
    "    elif m !=1 :\n",
    "        bool_ = 0\n",
    "        for i in range(2,m):\n",
    "            if m % i == 0:\n",
    "                bool_ =0\n",
    "                break\n",
    "            else :\n",
    "                bool_ = 1\n",
    "        if bool_ == 1 :\n",
    "            return 1\n",
    "    else :\n",
    "        pass\n",
    "def meisen(p):\n",
    "    if sushu(p) and sushu(2**p-1) and 2**p-1<=31:\n",
    "        print(p,'\\t',2**p-1)\n",
    "print('p  \\t 2^p-1')\n",
    "for i in range(2,32):\n",
    "    meisen(i)"
   ]
  },
  {
   "cell_type": "markdown",
   "metadata": {},
   "source": [
    "- 9\n",
    "![](../Photo/82.png)\n",
    "![](../Photo/83.png)"
   ]
  },
  {
   "cell_type": "code",
   "execution_count": null,
   "metadata": {},
   "outputs": [],
   "source": [
    "import time\n",
    "timeStamp = time.time()\n",
    "dateArray = datetime.datetime.utcfromtimestamp(timeStamp)\n",
    "#otherStyleTime = dateArray.strftime(\"%Y-%m-%d %H:%M:%S\")\n",
    "otherStyleTime = dateArray.strftime(\"%d %m %Y %H:%M:%S\")\n",
    "print(\"Current date and time is \"+otherStyleTime)\n"
   ]
  },
  {
   "cell_type": "code",
   "execution_count": 48,
   "metadata": {},
   "outputs": [
    {
     "name": "stdout",
     "output_type": "stream",
     "text": [
      "Sep 09, 2018 11:58:58\n"
     ]
    }
   ],
   "source": [
    "import time\n",
    "print(time.strftime('%h %m, %Y %H:%M:%S',time.localtime(time.time())))"
   ]
  },
  {
   "cell_type": "markdown",
   "metadata": {},
   "source": [
    "- 10\n",
    "![](../Photo/84.png)"
   ]
  },
  {
   "cell_type": "code",
   "execution_count": null,
   "metadata": {},
   "outputs": [],
   "source": [
    "import random\n",
    "\n",
    "def panduan(a1,a2,sum_):\n",
    "    res1 = 0\n",
    "    res2 = 0\n",
    "    if sum_ == 2 or sum_ == 3 or sum_ == 12:\n",
    "        print('You rolled ',a1,' + ',a2,' = ',sum_)\n",
    "        print('you are lose')\n",
    "    elif sum_ == 7 or sum_ == 11:\n",
    "        print('You rolled ',a1,' + ',a2,' = ',sum_)\n",
    "        print('you win')\n",
    "    else :\n",
    "        print('You rolled ',a1,' + ',a2,' = ',sum_)\n",
    "        print('point is ',sum_)\n",
    "        a1 = random.randint(1,6)\n",
    "        a2 = random.randint(1,6)\n",
    "        sum_ = a1 +a2\n",
    "        panduan(a1,a2,sum_)\n",
    "a1 = random.randint(1,6)\n",
    "a2 = random.randint(1,6)\n",
    "sum_ = a1 +a2\n",
    "panduan(a1,a2,sum_)"
   ]
  },
  {
   "cell_type": "markdown",
   "metadata": {},
   "source": [
    "- 11 \n",
    "### 去网上寻找如何用Python代码发送邮件"
   ]
  }
 ],
 "metadata": {
  "kernelspec": {
   "display_name": "Python 3",
   "language": "python",
   "name": "python3"
  },
  "language_info": {
   "codemirror_mode": {
    "name": "ipython",
    "version": 3
   },
   "file_extension": ".py",
   "mimetype": "text/x-python",
   "name": "python",
   "nbconvert_exporter": "python",
   "pygments_lexer": "ipython3",
   "version": "3.6.5"
  }
 },
 "nbformat": 4,
 "nbformat_minor": 2
}
