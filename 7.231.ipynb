{
 "cells": [
  {
   "cell_type": "markdown",
   "metadata": {},
   "source": [
    "# 对象和类\n",
    "- 一个学生，一张桌子，一个圆都是对象\n",
    "- 对象是类的一个实例，你可以创建多个对象，创建类的一个实例过程被称为实例化，\n",
    "- 在Python中对象就是实例，而实例就是对象"
   ]
  },
  {
   "cell_type": "markdown",
   "metadata": {},
   "source": [
    "## 定义类\n",
    "class ClassName:\n",
    "\n",
    "    do something\n",
    "    \n",
    "- class 类的表示与def 一样\n",
    "- 类名最好使用驼峰式\n",
    "- 在Python2中类是需要继承基类object的，在Python中默认继承，可写可不写\n",
    "- 可以将普通代码理解为皮肤，而函数可以理解为内衣，那么类可以理解为外套"
   ]
  },
  {
   "cell_type": "code",
   "execution_count": 1,
   "metadata": {},
   "outputs": [
    {
     "name": "stdout",
     "output_type": "stream",
     "text": [
      "Hello\n"
     ]
    }
   ],
   "source": [
    "class Joker(object):  # 在python2中必须要写，代表继承基类。Python3中可写可不写\n",
    "    '''\n",
    "    注释这个类是做什么的\n",
    "    '''\n",
    "    print('Hello')"
   ]
  },
  {
   "cell_type": "code",
   "execution_count": 3,
   "metadata": {},
   "outputs": [
    {
     "name": "stdout",
     "output_type": "stream",
     "text": [
      "hello\n"
     ]
    }
   ],
   "source": [
    "class Joker:\n",
    "    print('hello')"
   ]
  },
  {
   "cell_type": "markdown",
   "metadata": {},
   "source": [
    "## 定义一个不含初始化__init__的简单类\n",
    "class ClassName:\n",
    "\n",
    "    joker = “Home”\n",
    "    \n",
    "    def func():\n",
    "        print('Worker')\n",
    "    \n",
    "- 尽量少使用"
   ]
  },
  {
   "cell_type": "code",
   "execution_count": 5,
   "metadata": {},
   "outputs": [],
   "source": [
    "class ClassName:\n",
    "\n",
    "    joker = 'Home'\n",
    "    def func():\n",
    "        print('Worker')"
   ]
  },
  {
   "cell_type": "code",
   "execution_count": 6,
   "metadata": {},
   "outputs": [
    {
     "data": {
      "text/plain": [
       "'Home'"
      ]
     },
     "execution_count": 6,
     "metadata": {},
     "output_type": "execute_result"
    }
   ],
   "source": [
    "ClassName.joker"
   ]
  },
  {
   "cell_type": "code",
   "execution_count": 7,
   "metadata": {},
   "outputs": [
    {
     "data": {
      "text/plain": [
       "__main__.ClassName"
      ]
     },
     "execution_count": 7,
     "metadata": {},
     "output_type": "execute_result"
    }
   ],
   "source": [
    "ClassName"
   ]
  },
  {
   "cell_type": "code",
   "execution_count": 9,
   "metadata": {},
   "outputs": [
    {
     "name": "stdout",
     "output_type": "stream",
     "text": [
      "Worker\n"
     ]
    }
   ],
   "source": [
    "ClassName.func()"
   ]
  },
  {
   "cell_type": "code",
   "execution_count": 23,
   "metadata": {},
   "outputs": [],
   "source": [
    "class CubicNumber():\n",
    "    def __init__(self, num = 5):\n",
    "        self.num = num\n",
    "    def func(self):\n",
    "        return self.num **3"
   ]
  },
  {
   "cell_type": "code",
   "execution_count": 26,
   "metadata": {},
   "outputs": [
    {
     "data": {
      "text/plain": [
       "343"
      ]
     },
     "execution_count": 26,
     "metadata": {},
     "output_type": "execute_result"
    }
   ],
   "source": [
    "exam = CubicNumber(7)\n",
    "exam.func()"
   ]
  },
  {
   "cell_type": "code",
   "execution_count": 27,
   "metadata": {},
   "outputs": [
    {
     "data": {
      "text/plain": [
       "343"
      ]
     },
     "execution_count": 27,
     "metadata": {},
     "output_type": "execute_result"
    }
   ],
   "source": [
    "CubicNumber(7).func()"
   ]
  },
  {
   "cell_type": "markdown",
   "metadata": {},
   "source": [
    "## 定义一个标准类\n",
    "- __init__ 代表初始化，可以初始化任何动作\n",
    "- 此时类调用要使用()，其中（）可以理解为开始初始化\n",
    "- 初始化内的元素，类中其他的函数可以共享\n",
    "![](../Photo/85.png)"
   ]
  },
  {
   "cell_type": "code",
   "execution_count": 21,
   "metadata": {
    "collapsed": true
   },
   "outputs": [],
   "source": [
    "class ClassName3:\n",
    "    def __init__(self):\n",
    "        print('Joker is a bad man')"
   ]
  },
  {
   "cell_type": "code",
   "execution_count": 22,
   "metadata": {},
   "outputs": [
    {
     "name": "stdout",
     "output_type": "stream",
     "text": [
      "Joker is a bad man\n"
     ]
    },
    {
     "data": {
      "text/plain": [
       "<__main__.ClassName3 at 0x4d509e8>"
      ]
     },
     "execution_count": 22,
     "metadata": {},
     "output_type": "execute_result"
    }
   ],
   "source": [
    "ClassName3()  #括号代表初始化"
   ]
  },
  {
   "cell_type": "code",
   "execution_count": 30,
   "metadata": {
    "collapsed": true
   },
   "outputs": [],
   "source": [
    "class ClassName3:\n",
    "    def __init__(self):\n",
    "        print('Joker is a bad man')\n",
    "        self.Joker = 'Home'"
   ]
  },
  {
   "cell_type": "code",
   "execution_count": 32,
   "metadata": {},
   "outputs": [
    {
     "name": "stdout",
     "output_type": "stream",
     "text": [
      "Joker is a bad man\n"
     ]
    }
   ],
   "source": [
    "Python = ClassName3()"
   ]
  },
  {
   "cell_type": "code",
   "execution_count": 34,
   "metadata": {},
   "outputs": [
    {
     "data": {
      "text/plain": [
       "'Home'"
      ]
     },
     "execution_count": 34,
     "metadata": {},
     "output_type": "execute_result"
    }
   ],
   "source": [
    "Python.Joker"
   ]
  },
  {
   "cell_type": "code",
   "execution_count": 35,
   "metadata": {},
   "outputs": [
    {
     "data": {
      "text/plain": [
       "['__class__',\n",
       " '__delattr__',\n",
       " '__dict__',\n",
       " '__dir__',\n",
       " '__doc__',\n",
       " '__eq__',\n",
       " '__format__',\n",
       " '__ge__',\n",
       " '__getattribute__',\n",
       " '__gt__',\n",
       " '__hash__',\n",
       " '__init__',\n",
       " '__init_subclass__',\n",
       " '__le__',\n",
       " '__lt__',\n",
       " '__module__',\n",
       " '__ne__',\n",
       " '__new__',\n",
       " '__reduce__',\n",
       " '__reduce_ex__',\n",
       " '__repr__',\n",
       " '__setattr__',\n",
       " '__sizeof__',\n",
       " '__str__',\n",
       " '__subclasshook__',\n",
       " '__weakref__']"
      ]
     },
     "execution_count": 35,
     "metadata": {},
     "output_type": "execute_result"
    }
   ],
   "source": [
    "dir(ClassName3)"
   ]
  },
  {
   "cell_type": "markdown",
   "metadata": {},
   "source": [
    "## 何为self？\n",
    "- self 是指向对象本身的参数\n",
    "- self 只是一个命名规则，其实可以改变的，但是我们约定俗成的是self，也便于理解\n",
    "- 使用了self就可以访问类中定义的成员\n",
    "<img src=\"../Photo/86.png\"></img>"
   ]
  },
  {
   "cell_type": "code",
   "execution_count": 49,
   "metadata": {},
   "outputs": [],
   "source": [
    "class ClassName4:\n",
    "    def __init__(self, x = 1, y = 2):\n",
    "        self.x = x\n",
    "        self.y = y\n",
    "    def func1(self):\n",
    "        return self.x * self.y\n",
    "    def func2(self):\n",
    "        self.x -= 1\n",
    "        self.y -= 1 \n",
    "        print(self.x, self.y)"
   ]
  },
  {
   "cell_type": "code",
   "execution_count": 50,
   "metadata": {
    "collapsed": true
   },
   "outputs": [],
   "source": [
    "exam4 = ClassName4()"
   ]
  },
  {
   "cell_type": "code",
   "execution_count": 51,
   "metadata": {},
   "outputs": [
    {
     "data": {
      "text/plain": [
       "2"
      ]
     },
     "execution_count": 51,
     "metadata": {},
     "output_type": "execute_result"
    }
   ],
   "source": [
    "exam4.func1()"
   ]
  },
  {
   "cell_type": "code",
   "execution_count": 52,
   "metadata": {},
   "outputs": [
    {
     "name": "stdout",
     "output_type": "stream",
     "text": [
      "0 1\n"
     ]
    }
   ],
   "source": [
    "exam4.func2()"
   ]
  },
  {
   "cell_type": "code",
   "execution_count": 53,
   "metadata": {},
   "outputs": [
    {
     "data": {
      "text/plain": [
       "['__class__',\n",
       " '__delattr__',\n",
       " '__dict__',\n",
       " '__dir__',\n",
       " '__doc__',\n",
       " '__eq__',\n",
       " '__format__',\n",
       " '__ge__',\n",
       " '__getattribute__',\n",
       " '__gt__',\n",
       " '__hash__',\n",
       " '__init__',\n",
       " '__init_subclass__',\n",
       " '__le__',\n",
       " '__lt__',\n",
       " '__module__',\n",
       " '__ne__',\n",
       " '__new__',\n",
       " '__reduce__',\n",
       " '__reduce_ex__',\n",
       " '__repr__',\n",
       " '__setattr__',\n",
       " '__sizeof__',\n",
       " '__str__',\n",
       " '__subclasshook__',\n",
       " '__weakref__',\n",
       " 'func1',\n",
       " 'func2']"
      ]
     },
     "execution_count": 53,
     "metadata": {},
     "output_type": "execute_result"
    }
   ],
   "source": [
    "dir(ClassName4)"
   ]
  },
  {
   "cell_type": "code",
   "execution_count": 104,
   "metadata": {
    "collapsed": true
   },
   "outputs": [],
   "source": [
    "class ClassName5:\n",
    "    def __init__(self):\n",
    "        self.x = 100\n",
    "    def fun1(self):\n",
    "        return self.x ** 3\n",
    "    def fun2(self):\n",
    "        return self.x ** 2\n",
    "    def fun3(self):\n",
    "        a = self.fun1()\n",
    "        b = self.fun2()\n",
    "        return a - b"
   ]
  },
  {
   "cell_type": "code",
   "execution_count": 105,
   "metadata": {},
   "outputs": [
    {
     "name": "stdout",
     "output_type": "stream",
     "text": [
      "1000000\n",
      "10000\n",
      "990000\n"
     ]
    }
   ],
   "source": [
    "print(ClassName5().fun1())\n",
    "print(ClassName5().fun2())\n",
    "print(ClassName5().fun3())"
   ]
  },
  {
   "cell_type": "code",
   "execution_count": 91,
   "metadata": {
    "collapsed": true
   },
   "outputs": [],
   "source": [
    "class ClassName6:\n",
    "    def __init__(self):\n",
    "        self.x = 100\n",
    "        self.x2 = 0\n",
    "        self.x3 = 0\n",
    "    def fun1(self):\n",
    "        self.x2 = self.x ** 2\n",
    "    def fun2(self):\n",
    "        self.x3 = self.x ** 3\n",
    "    def fun3(self):\n",
    "        return self.x3 - self.x2"
   ]
  },
  {
   "cell_type": "code",
   "execution_count": null,
   "metadata": {
    "collapsed": true
   },
   "outputs": [],
   "source": []
  },
  {
   "cell_type": "code",
   "execution_count": 92,
   "metadata": {},
   "outputs": [
    {
     "name": "stdout",
     "output_type": "stream",
     "text": [
      "990000\n"
     ]
    }
   ],
   "source": [
    "ClassName6().fun1()\n",
    "ClassName6().fun2()\n",
    "print(ClassName5().fun3())"
   ]
  },
  {
   "cell_type": "code",
   "execution_count": 101,
   "metadata": {},
   "outputs": [],
   "source": [
    "class ClassName7:\n",
    "    def __init__(self, num = 10):\n",
    "        self.x = num\n",
    "        self.x2 = None\n",
    "        self.x3 = None\n",
    "    def fun1(self):\n",
    "        self.x2 = self.x ** 2\n",
    "    def fun2(self):\n",
    "        self.x3 = self.x ** 3\n",
    "    def fun3(self):\n",
    "        self.fun1()\n",
    "        self.fun2()\n",
    "        print(self.x3 - self.x2)"
   ]
  },
  {
   "cell_type": "code",
   "execution_count": 99,
   "metadata": {},
   "outputs": [
    {
     "name": "stdout",
     "output_type": "stream",
     "text": [
      "900\n"
     ]
    }
   ],
   "source": [
    "ClassName7().fun3()"
   ]
  },
  {
   "cell_type": "code",
   "execution_count": 103,
   "metadata": {},
   "outputs": [
    {
     "name": "stdout",
     "output_type": "stream",
     "text": [
      "990000\n"
     ]
    }
   ],
   "source": [
    "ClassName7(100).fun3()"
   ]
  },
  {
   "cell_type": "code",
   "execution_count": null,
   "metadata": {
    "collapsed": true
   },
   "outputs": [],
   "source": [
    "# 递归方法\n",
    "\n",
    "def A():\n",
    "    print('Hello')\n",
    "    A()"
   ]
  },
  {
   "cell_type": "markdown",
   "metadata": {},
   "source": [
    "## 使用类 Cirlcle"
   ]
  },
  {
   "cell_type": "code",
   "execution_count": 88,
   "metadata": {
    "collapsed": true
   },
   "outputs": [],
   "source": [
    "import math \n",
    "class ClassCircle:\n",
    "    def __init__(self, redius1 = 10):\n",
    "        self.redius1 = redius1\n",
    "    def fun1(self):\n",
    "        return 2 * self.redius1 * math.pi\n",
    "    def fun2(self):\n",
    "        return math.pi * self.redius1 ** 2\n",
    "    def fun3(self):\n",
    "        return self.redius1"
   ]
  },
  {
   "cell_type": "code",
   "execution_count": 89,
   "metadata": {},
   "outputs": [],
   "source": [
    "C1 = ClassCircle()"
   ]
  },
  {
   "cell_type": "code",
   "execution_count": 90,
   "metadata": {},
   "outputs": [
    {
     "name": "stdout",
     "output_type": "stream",
     "text": [
      "62.83185307179586\n",
      "314.1592653589793\n",
      "10\n"
     ]
    }
   ],
   "source": [
    "print(ClassCircle().fun1())\n",
    "print(ClassCircle().fun2())\n",
    "print(ClassCircle().fun3())"
   ]
  },
  {
   "cell_type": "code",
   "execution_count": 106,
   "metadata": {},
   "outputs": [
    {
     "name": "stdout",
     "output_type": "stream",
     "text": [
      "25.132741228718345\n",
      "50.26548245743669\n",
      "4\n"
     ]
    }
   ],
   "source": [
    "C2 = ClassCircle(4)\n",
    "\n",
    "print(C2.fun1())\n",
    "print(C2.fun2())\n",
    "print(C2.fun3())"
   ]
  },
  {
   "cell_type": "markdown",
   "metadata": {},
   "source": [
    "## 类的传参\n",
    "- class ClassName:\n",
    "    \n",
    "        def __init__(self, para1,para2...)：\n",
    "            \n",
    "            self.para1 = para1\n",
    "            \n",
    "            self.para2 = para2"
   ]
  },
  {
   "cell_type": "markdown",
   "metadata": {},
   "source": [
    "## EP:\n",
    "- A：定义一个类，类中含有两个功能：\n",
    "    - 1、计算随机数的最大值\n",
    "    - 2、计算随机数的最小值\n"
   ]
  },
  {
   "cell_type": "code",
   "execution_count": 119,
   "metadata": {
    "collapsed": true
   },
   "outputs": [],
   "source": [
    "import random\n",
    "class ComouteNums(object):\n",
    "    def __init__(self):\n",
    "        self.num1 = random.randint(1, 100)\n",
    "        self.num2 = random.randint(1, 100)\n",
    "    def maxNums(self):\n",
    "        return max(self.num1, self.num2)\n",
    "    def minNums(self):\n",
    "        return min(self.num1, self.num2)\n",
    "    def setNums(self):\n",
    "        print('two numbers are', self.num1, self.num2)"
   ]
  },
  {
   "cell_type": "code",
   "execution_count": 120,
   "metadata": {},
   "outputs": [
    {
     "name": "stdout",
     "output_type": "stream",
     "text": [
      "two numbers are 46 24\n",
      "max is  46\n",
      "min is  24\n"
     ]
    }
   ],
   "source": [
    "C3 = ComouteNums()\n",
    "C3.setNums()\n",
    "print('max is ', C3.maxNums())\n",
    "print('min is ', C3.minNums())"
   ]
  },
  {
   "cell_type": "markdown",
   "metadata": {},
   "source": [
    "- B：定义一个类，（类中函数的嵌套使用）\n",
    "    - 1、第一个函数的功能为：输入一个数字\n",
    "    - 2、第二个函数的功能为：使用第一个函数中得到的数字进行平方处理\n",
    "    - 3、第三个函数的功能为：得到平方处理后的数字 - 原来输入的数字，并打印结果"
   ]
  },
  {
   "cell_type": "code",
   "execution_count": 117,
   "metadata": {
    "collapsed": true
   },
   "outputs": [],
   "source": [
    "class SqrtNum():\n",
    "    def __init__(self):\n",
    "        self.num = None\n",
    "    def fun1(self):\n",
    "        self.num = eval(input('Enter a number:'))\n",
    "        return self.num\n",
    "    def fun2(self):\n",
    "        return self.num**2\n",
    "    def fun3(self):\n",
    "        print(self.num**2 - self.num)"
   ]
  },
  {
   "cell_type": "code",
   "execution_count": 118,
   "metadata": {
    "scrolled": true
   },
   "outputs": [
    {
     "name": "stdout",
     "output_type": "stream",
     "text": [
      "Enter a number:4\n",
      "4\n",
      "16\n",
      "12\n"
     ]
    }
   ],
   "source": [
    "C4 = SqrtNum()\n",
    "print(C4.fun1())\n",
    "print(C4.fun2())\n",
    "C4.fun3()"
   ]
  },
  {
   "cell_type": "code",
   "execution_count": 133,
   "metadata": {
    "collapsed": true
   },
   "outputs": [],
   "source": [
    "class SqrtNum1():\n",
    "    def __init__(self):\n",
    "        self.num = None\n",
    "    def input_(self):\n",
    "        self.num = eval(input('Enter a number:'))\n",
    "        return self.num\n",
    "    def fun2(self):\n",
    "        return self.num**2\n",
    "    def fun3(self):\n",
    "        x = self.fun2()\n",
    "        print(x - self.num)"
   ]
  },
  {
   "cell_type": "code",
   "execution_count": 137,
   "metadata": {},
   "outputs": [
    {
     "name": "stdout",
     "output_type": "stream",
     "text": [
      "Enter a number:7\n",
      "-42\n"
     ]
    }
   ],
   "source": [
    "C5 = SqrtNum1()\n",
    "a1 = C5.input_()\n",
    "a2 = C5.fun2()\n",
    "print(a1 - a2)"
   ]
  },
  {
   "cell_type": "markdown",
   "metadata": {},
   "source": [
    "# 密码爆破\n",
    "\n",
    "- 1、函数生成0-9的6位数密码\n",
    "- 2、穷举这个密码，如果正确，返回已经爆破\n",
    "- 3、次数限制，三次限制\n",
    "- 4、超过限制次数后卡片锁死 raise 抛错 或者 输出（卡片锁死，到柜台办理相关手续）\n",
    "-   raise Exceptuin('卡片锁死，请携带相关证明到胡氏银行柜台办理相关手续')\n",
    "- 5、密码MD5化 —真实开发中，使用了9层MD5来加密"
   ]
  },
  {
   "cell_type": "code",
   "execution_count": 151,
   "metadata": {
    "collapsed": true
   },
   "outputs": [],
   "source": [
    "import random\n",
    "\n",
    "class BreakCode():\n",
    "    def __init__(self):\n",
    "        self.code = random.randint(100000, 999999)\n",
    "        self.cishu = 0\n",
    "    def get_code(self):\n",
    "        print('原始密码', self.code)\n",
    "    def baopo(self):\n",
    "        for i in range(100000, 1000000):\n",
    "            if i == self.code:\n",
    "                print('密码已经爆破', str(i))\n",
    "    def baopo_cishu(self):\n",
    "        while True:\n",
    "            self.cishu += 1\n",
    "            code_input = eval(input('Enter the code'))\n",
    "            if code_input == self.code:\n",
    "                print('密码已经爆破',code_input)\n",
    "                break\n",
    "            elif self.cishu >= 3:\n",
    "                raise Exception('卡片锁死，请携带相关证明到胡氏银行柜台办理相关手续')\n",
    "                #print('卡片锁死，请携带相关证明到胡氏银行柜台办理相关手续')\n",
    "                break\n",
    "            else:\n",
    "                pass\n",
    "            \n",
    "    \n",
    "                   "
   ]
  },
  {
   "cell_type": "code",
   "execution_count": 152,
   "metadata": {},
   "outputs": [
    {
     "name": "stdout",
     "output_type": "stream",
     "text": [
      "Enter the code12637474\n",
      "Enter the code374458858\n",
      "Enter the code3939939\n"
     ]
    },
    {
     "ename": "Exception",
     "evalue": "卡片锁死，请携带相关证明到胡氏银行柜台办理相关手续",
     "output_type": "error",
     "traceback": [
      "\u001b[0;31m---------------------------------------------------------------------------\u001b[0m",
      "\u001b[0;31mException\u001b[0m                                 Traceback (most recent call last)",
      "\u001b[0;32m<ipython-input-152-f48fb8f88717>\u001b[0m in \u001b[0;36m<module>\u001b[0;34m()\u001b[0m\n\u001b[0;32m----> 1\u001b[0;31m \u001b[0mBreakCode\u001b[0m\u001b[1;33m(\u001b[0m\u001b[1;33m)\u001b[0m\u001b[1;33m.\u001b[0m\u001b[0mbaopo_cishu\u001b[0m\u001b[1;33m(\u001b[0m\u001b[1;33m)\u001b[0m\u001b[1;33m\u001b[0m\u001b[0m\n\u001b[0m",
      "\u001b[0;32m<ipython-input-151-411ec67df919>\u001b[0m in \u001b[0;36mbaopo_cishu\u001b[0;34m(self)\u001b[0m\n\u001b[1;32m     19\u001b[0m                 \u001b[1;32mbreak\u001b[0m\u001b[1;33m\u001b[0m\u001b[0m\n\u001b[1;32m     20\u001b[0m             \u001b[1;32melif\u001b[0m \u001b[0mself\u001b[0m\u001b[1;33m.\u001b[0m\u001b[0mcishu\u001b[0m \u001b[1;33m>=\u001b[0m \u001b[1;36m3\u001b[0m\u001b[1;33m:\u001b[0m\u001b[1;33m\u001b[0m\u001b[0m\n\u001b[0;32m---> 21\u001b[0;31m                 \u001b[1;32mraise\u001b[0m \u001b[0mException\u001b[0m\u001b[1;33m(\u001b[0m\u001b[1;34m'卡片锁死，请携带相关证明到胡氏银行柜台办理相关手续'\u001b[0m\u001b[1;33m)\u001b[0m\u001b[1;33m\u001b[0m\u001b[0m\n\u001b[0m\u001b[1;32m     22\u001b[0m                 \u001b[1;31m#print('卡片锁死，请携带相关证明到胡氏银行柜台办理相关手续')\u001b[0m\u001b[1;33m\u001b[0m\u001b[1;33m\u001b[0m\u001b[0m\n\u001b[1;32m     23\u001b[0m                 \u001b[1;32mbreak\u001b[0m\u001b[1;33m\u001b[0m\u001b[0m\n",
      "\u001b[0;31mException\u001b[0m: 卡片锁死，请携带相关证明到胡氏银行柜台办理相关手续"
     ]
    }
   ],
   "source": [
    "BreakCode().baopo_cishu()"
   ]
  },
  {
   "cell_type": "code",
   "execution_count": 179,
   "metadata": {
    "collapsed": true
   },
   "outputs": [],
   "source": [
    "import random\n",
    "\n",
    "class BreakCode1():\n",
    "    def __init__(self):\n",
    "        self.code = []\n",
    "        for i in range(0, 6):\n",
    "            self.code.append(random.randint(0, 9))\n",
    "            print(self.code[i])\n",
    "        self.cishu = 0\n",
    "        self.K = True\n",
    "    def get_code(self):\n",
    "        print('原始密码', self.code)\n",
    "    def baopo(self):\n",
    "        while True:\n",
    "            pass\n",
    "                print('密码已经爆破', str(i))\n",
    "    def baopo_cishu(self):\n",
    "        while True:\n",
    "            self.cishu += 1\n",
    "            code_input = input('Enter the code')\n",
    "            print(code_input)\n",
    "            for i in range(0, 6):\n",
    "                if code_input[i] != self.code[i]:\n",
    "                    self.K = False\n",
    "            if self.K == True:\n",
    "                print('密码已经爆破',code_input)\n",
    "                break\n",
    "            elif self.cishu >= 3:\n",
    "                #raise Exception('卡片锁死，请携带相关证明到胡氏银行柜台办理相关手续')\n",
    "                print('卡片锁死，请携带相关证明到胡氏银行柜台办理相关手续')\n",
    "                break\n",
    "            else:\n",
    "                pass\n",
    "            "
   ]
  },
  {
   "cell_type": "code",
   "execution_count": 180,
   "metadata": {},
   "outputs": [
    {
     "name": "stdout",
     "output_type": "stream",
     "text": [
      "5\n",
      "5\n",
      "5\n",
      "9\n",
      "2\n",
      "0\n",
      "Enter the code3847474\n",
      "3847474\n",
      "Enter the code555920\n",
      "555920\n",
      "Enter the code48858557\n",
      "48858557\n",
      "卡片锁死，请携带相关证明到胡氏银行柜台办理相关手续\n"
     ]
    }
   ],
   "source": [
    "C7 = BreakCode1()\n",
    "C7.baopo_cishu()"
   ]
  },
  {
   "cell_type": "code",
   "execution_count": 153,
   "metadata": {},
   "outputs": [
    {
     "data": {
      "text/plain": [
       "<itertools.product at 0x4d90a68>"
      ]
     },
     "execution_count": 153,
     "metadata": {},
     "output_type": "execute_result"
    }
   ],
   "source": [
    "import itertools\n",
    "res = itertools.product()"
   ]
  },
  {
   "cell_type": "markdown",
   "metadata": {},
   "source": [
    "## 类的继承\n",
    "- 类的单继承    class Huwang1(Mayun)\n",
    "- 类的多继承    class Huwang2(Mayun, Mahuateng)\n",
    "- 继承标识\n",
    "### 私有变量 __a  变量前面加下划线，一般不要动私有变量\n",
    ">  class SonClass(FatherClass):\n",
    "            \n",
    "            def __init__(self):\n",
    "            \n",
    "                FatherClass.__init__(self)"
   ]
  },
  {
   "cell_type": "code",
   "execution_count": 220,
   "metadata": {
    "collapsed": true
   },
   "outputs": [],
   "source": [
    "class Mayun():\n",
    "    def __init__(self):\n",
    "        self.__a = '马云'\n",
    "    def showmayun(self):\n",
    "        print(self.a)"
   ]
  },
  {
   "cell_type": "code",
   "execution_count": 221,
   "metadata": {
    "collapsed": true
   },
   "outputs": [
    {
     "data": {
      "text/plain": [
       "['_Mayun__a',\n",
       " '__class__',\n",
       " '__delattr__',\n",
       " '__dict__',\n",
       " '__dir__',\n",
       " '__doc__',\n",
       " '__eq__',\n",
       " '__format__',\n",
       " '__ge__',\n",
       " '__getattribute__',\n",
       " '__gt__',\n",
       " '__hash__',\n",
       " '__init__',\n",
       " '__init_subclass__',\n",
       " '__le__',\n",
       " '__lt__',\n",
       " '__module__',\n",
       " '__ne__',\n",
       " '__new__',\n",
       " '__reduce__',\n",
       " '__reduce_ex__',\n",
       " '__repr__',\n",
       " '__setattr__',\n",
       " '__sizeof__',\n",
       " '__str__',\n",
       " '__subclasshook__',\n",
       " '__weakref__',\n",
       " 'showmayun']"
      ]
     },
     "execution_count": 221,
     "metadata": {},
     "output_type": "execute_result"
    }
   ],
   "source": [
    "dir(Mayun())"
   ]
  },
  {
   "cell_type": "code",
   "execution_count": 222,
   "metadata": {
    "collapsed": true
   },
   "outputs": [
    {
     "data": {
      "text/plain": [
       "['_Mayun__a',\n",
       " '__module__',\n",
       " '__init__',\n",
       " 'showmayun',\n",
       " '__dict__',\n",
       " '__weakref__',\n",
       " '__doc__',\n",
       " '__repr__',\n",
       " '__hash__',\n",
       " '__str__',\n",
       " '__getattribute__',\n",
       " '__setattr__',\n",
       " '__delattr__',\n",
       " '__lt__',\n",
       " '__le__',\n",
       " '__eq__',\n",
       " '__ne__',\n",
       " '__gt__',\n",
       " '__ge__',\n",
       " '__new__',\n",
       " '__reduce_ex__',\n",
       " '__reduce__',\n",
       " '__subclasshook__',\n",
       " '__init_subclass__',\n",
       " '__format__',\n",
       " '__sizeof__',\n",
       " '__dir__',\n",
       " '__class__']"
      ]
     },
     "execution_count": 222,
     "metadata": {},
     "output_type": "execute_result"
    }
   ],
   "source": [
    "Mayun().__dir__()"
   ]
  },
  {
   "cell_type": "code",
   "execution_count": 202,
   "metadata": {
    "collapsed": true
   },
   "outputs": [],
   "source": [
    "class Mahuateng():\n",
    "    def __init__(self):\n",
    "        self.c = '马化腾'\n",
    "    def shwomahuateng(self):\n",
    "        print(self.c)"
   ]
  },
  {
   "cell_type": "code",
   "execution_count": 207,
   "metadata": {
    "collapsed": true
   },
   "outputs": [],
   "source": [
    "class Huwang1(Mayun):    #单继承\n",
    "    def __init__(self):\n",
    "        Mayun.__init__(self)\n",
    "        self.b = '胡旺'\n",
    "    def showhuwang(self):\n",
    "        print(self.b)\n",
    "        print(self.a)\n",
    "        self.showmayun()"
   ]
  },
  {
   "cell_type": "code",
   "execution_count": 204,
   "metadata": {
    "collapsed": true
   },
   "outputs": [],
   "source": [
    "class Huwang2(Mayun, Mahuateng):   #多继承\n",
    "    def __init__(self):\n",
    "        Mayun.__init__(self)\n",
    "        Mahuateng.__init__(self)\n",
    "        self.b = '胡旺'\n",
    "    def showhuwang(self):\n",
    "        print(self.b)\n",
    "        print(self.a)\n",
    "        print(self.c)\n",
    "        self.showmayun()"
   ]
  },
  {
   "cell_type": "code",
   "execution_count": 208,
   "metadata": {},
   "outputs": [
    {
     "name": "stdout",
     "output_type": "stream",
     "text": [
      "胡旺\n",
      "马云\n",
      "马化腾\n",
      "马云\n"
     ]
    }
   ],
   "source": [
    "Huwang2().showhuwang()"
   ]
  },
  {
   "cell_type": "code",
   "execution_count": 210,
   "metadata": {},
   "outputs": [
    {
     "name": "stdout",
     "output_type": "stream",
     "text": [
      "胡旺\n",
      "马云\n",
      "马云\n"
     ]
    }
   ],
   "source": [
    "Huwang1().showhuwang()\n"
   ]
  },
  {
   "cell_type": "markdown",
   "metadata": {},
   "source": [
    "## 私有数据域(私有变量，或者私有函数)\n",
    "- 在Python中 变量名或者函数名使用双下划线代表私有  \\__Joker,   def \\__Joker():\n",
    "- 私有数据域不可继承\n",
    "- 私有数据域强制继承   \\__dir__()     \\ _class__i    _class__getnum()"
   ]
  },
  {
   "cell_type": "markdown",
   "metadata": {},
   "source": [
    "![](../Photo/87.png)"
   ]
  },
  {
   "cell_type": "code",
   "execution_count": 228,
   "metadata": {},
   "outputs": [],
   "source": [
    "class A:\n",
    "    def __init__(self):\n",
    "        self.__i = 'Hello'\n",
    "    def show(self):\n",
    "        print(self.__i)\n"
   ]
  },
  {
   "cell_type": "code",
   "execution_count": 231,
   "metadata": {},
   "outputs": [
    {
     "data": {
      "text/plain": [
       "'Hello'"
      ]
     },
     "execution_count": 231,
     "metadata": {},
     "output_type": "execute_result"
    }
   ],
   "source": [
    "C9 = A()\n",
    "C9._A__i   #私有变量的强制抢用"
   ]
  },
  {
   "cell_type": "markdown",
   "metadata": {},
   "source": [
    "## EP:\n",
    "![](../Photo/88.png)\n",
    "![](../Photo/89.png)\n",
    "![](../Photo/90.png)\n"
   ]
  },
  {
   "cell_type": "markdown",
   "metadata": {},
   "source": [
    "## 类的其他\n",
    "- 类的封装\n",
    "    - 实际上就是将一类功能放在一起，方便未来进行管理\n",
    "- 类的继承（上面已经讲过）\n",
    "- 类的多态\n",
    "    - 包括装饰器：将放在以后处理高级类中教\n",
    "    - 装饰器的好处：当许多类中的函数需要使用同一个功能的时候，那么使用装饰器就会方便许多\n",
    "    - 装饰器是有固定的写法\n",
    "        - 其包括普通装饰器与带参装饰器"
   ]
  },
  {
   "cell_type": "markdown",
   "metadata": {},
   "source": [
    "# 银行卡密码穷举"
   ]
  },
  {
   "cell_type": "code",
   "execution_count": 5,
   "metadata": {},
   "outputs": [
    {
     "data": {
      "text/plain": [
       "'111116'"
      ]
     },
     "execution_count": 5,
     "metadata": {},
     "output_type": "execute_result"
    }
   ],
   "source": [
    "# 银行卡密码穷举\n",
    "\n",
    "import itertools\n",
    "good = '1234567890'\n",
    "# hah = itertools.product(good, repeat = 6)\n",
    "# for i in hah:\n",
    "#     res = ''.join(i)\n",
    "#     print(res)\n",
    "\n",
    "maybe = (''.join(x) for x in itertools.product(good, repeat = 6))\n",
    "next(maybe)\n",
    "next(maybe)\n",
    "next(maybe)\n",
    "next(maybe)\n",
    "next(maybe)\n",
    "next(maybe)"
   ]
  },
  {
   "cell_type": "markdown",
   "metadata": {},
   "source": [
    "# Homewor\n",
    "## UML类图可以不用画\n",
    "## UML 实际上就是一个思维图\n",
    "- 1\n",
    "![](../Photo/91.png)"
   ]
  },
  {
   "cell_type": "code",
   "execution_count": 3,
   "metadata": {
    "collapsed": true
   },
   "outputs": [],
   "source": [
    "class Rectangle():\n",
    "    def __init__(self, width = 1, height = 2):\n",
    "        self.width = width\n",
    "        self.height = height\n",
    "    def getwh(self):\n",
    "        return self.width, self.height\n",
    "    def getArea(self):\n",
    "        return self.width * self.height\n",
    "    def getPerimeter(self):\n",
    "        return 2*(self.width + self.height)\n"
   ]
  },
  {
   "cell_type": "code",
   "execution_count": 4,
   "metadata": {},
   "outputs": [
    {
     "name": "stdout",
     "output_type": "stream",
     "text": [
      "宽为4.00，高为40.00的长方形的面积为160.00，周长为88.00\n"
     ]
    }
   ],
   "source": [
    "Rec1 = Rectangle(4, 40)\n",
    "width1, height1 = Rec1.getwh()\n",
    "area1 = Rec1.getArea()\n",
    "perim1 = Rec1.getPerimeter()\n",
    "print('宽为%.2f，高为%.2f的长方形的面积为%.2f，周长为%.2f' %(width1, height1, area1, perim1))"
   ]
  },
  {
   "cell_type": "code",
   "execution_count": 5,
   "metadata": {},
   "outputs": [
    {
     "name": "stdout",
     "output_type": "stream",
     "text": [
      "宽为3.50，高为35.70的长方形的面积为124.95，周长为78.40\n"
     ]
    }
   ],
   "source": [
    "Rec1 = Rectangle(3.5, 35.7)\n",
    "width1, height1 = Rec1.getwh()\n",
    "area1 = Rec1.getArea()\n",
    "perim1 = Rec1.getPerimeter()\n",
    "print('宽为%.2f，高为%.2f的长方形的面积为%.2f，周长为%.2f' %(width1, height1, area1, perim1))"
   ]
  },
  {
   "cell_type": "markdown",
   "metadata": {},
   "source": [
    "- 2\n",
    "![](../Photo/92.png)"
   ]
  },
  {
   "cell_type": "code",
   "execution_count": 12,
   "metadata": {
    "collapsed": true
   },
   "outputs": [],
   "source": [
    "class Account():\n",
    "    def __init__(self, id = 0, balance = 100, annualinterestRate = 0):\n",
    "        self.__id = id\n",
    "        self.__balance = balance\n",
    "        self.__annualinterestRate = annualinterestRate\n",
    "    def getId(self):\n",
    "        return self.__id\n",
    "    def changeId(self, id):\n",
    "        self.__id = id\n",
    "    def getBalance(self):\n",
    "        return self.__balance\n",
    "    def changeBalance(self, balance):\n",
    "        self.__balance = balance\n",
    "    def getBalance(self):\n",
    "        return self.__balance\n",
    "    def changeAnnualinterestRate(self, annualinterestRate):\n",
    "        self.__annualinterestRate = annualinterestRate    \n",
    "        \n",
    "    def getMonthlyInterestRate(self):\n",
    "        return self.__annualinterestRate / 1200\n",
    "    def getMonthlyInterest(self):\n",
    "        monthlyInterestRate = self.getMonthlyInterestRate()\n",
    "        return self.__balance * monthlyInterestRate\n",
    "    def withdraw(self, amount):\n",
    "        self.__balance -= amount\n",
    "    def deposit(self, deamount):\n",
    "        self.__balance += deamount\n",
    "        "
   ]
  },
  {
   "cell_type": "code",
   "execution_count": 13,
   "metadata": {},
   "outputs": [
    {
     "name": "stdout",
     "output_type": "stream",
     "text": [
      "The ID is  1122\n",
      "The balance is  20500\n",
      "The MonthlyInterestRate is  0.00375\n",
      "The MonthlyInterest is  76.875\n"
     ]
    }
   ],
   "source": [
    "account = Account(1122, 20000, 4.5)\n",
    "account.withdraw(2500)\n",
    "account.deposit(3000)\n",
    "print('The ID is ', account.getId())\n",
    "print('The balance is ', account.getBalance())\n",
    "print('The MonthlyInterestRate is ', account.getMonthlyInterestRate())\n",
    "print('The MonthlyInterest is ', account.getMonthlyInterest())"
   ]
  },
  {
   "cell_type": "code",
   "execution_count": 15,
   "metadata": {},
   "outputs": [
    {
     "name": "stdout",
     "output_type": "stream",
     "text": [
      "The ID is  1001\n",
      "The balance is  20510\n",
      "The MonthlyInterestRate is  0.003\n",
      "The MonthlyInterest is  61.53\n"
     ]
    }
   ],
   "source": [
    "account2 = Account(1122, 20000, 4.5)\n",
    "account2.changeId(1001)\n",
    "account2.changeBalance(20010)\n",
    "account2.changeAnnualinterestRate(3.6)\n",
    "account2.withdraw(2500)\n",
    "account2.deposit(3000)\n",
    "print('The ID is ', account2.getId())\n",
    "print('The balance is ', account2.getBalance())\n",
    "print('The MonthlyInterestRate is ', account2.getMonthlyInterestRate())\n",
    "print('The MonthlyInterest is ', account2.getMonthlyInterest())"
   ]
  },
  {
   "cell_type": "markdown",
   "metadata": {},
   "source": [
    "- 3\n",
    "![](../Photo/93.png)"
   ]
  },
  {
   "cell_type": "code",
   "execution_count": 47,
   "metadata": {
    "collapsed": true
   },
   "outputs": [],
   "source": [
    "class Fan():\n",
    "    def __init__(self, speed = 1, on = False, radius = 5, color = 'blue'):\n",
    "        if speed == 1:\n",
    "            self.__speed = 'SLOW'\n",
    "        elif speed == 2:\n",
    "            self.__speed = 'MEDIUM'\n",
    "        else:\n",
    "            self.__speed = 'FAST'      \n",
    "        self.__on = on\n",
    "        self.__radius = radius \n",
    "        self.__color = color\n",
    "    \n",
    "    def getSpeed(self):\n",
    "        return self.__speed\n",
    "    def getOn(self):\n",
    "        return self.__on\n",
    "    def getRadius(self):\n",
    "        return self.__radius\n",
    "    def getColor(self):\n",
    "        return self.__color\n",
    "    def changeSpeed(self, speed):\n",
    "        if speed == 1:\n",
    "            self.__speed = 'SLOW'\n",
    "        elif speed == 2:\n",
    "            self.__speed = 'MEDIUM'\n",
    "        else:\n",
    "            self.__speed = 'FAST'\n",
    "    def changeOn(self, on):\n",
    "        self.__on = on\n",
    "    def changeRadius(self, radius):\n",
    "        self.__radius = radius\n",
    "    def changeColor(self, color):\n",
    "        self.__color = color"
   ]
  },
  {
   "cell_type": "code",
   "execution_count": 48,
   "metadata": {},
   "outputs": [
    {
     "name": "stdout",
     "output_type": "stream",
     "text": [
      "The speed is  FAST\n",
      "The radius is  10\n",
      "The Color is  yellow\n",
      "The on is  True\n"
     ]
    }
   ],
   "source": [
    "fan1 = Fan(3, True, 10, 'yellow')\n",
    "print('The speed is ', fan1.getSpeed())\n",
    "print('The radius is ', fan1.getRadius())\n",
    "print('The Color is ', fan1.getColor())\n",
    "print('The on is ', fan1.getOn())"
   ]
  },
  {
   "cell_type": "code",
   "execution_count": 49,
   "metadata": {},
   "outputs": [
    {
     "name": "stdout",
     "output_type": "stream",
     "text": [
      "The speed is  MEDIUM\n",
      "The radius is  5\n",
      "The Color is  red\n",
      "The on is  False\n"
     ]
    }
   ],
   "source": [
    "fan2 = Fan()\n",
    "fan2.changeSpeed(2)\n",
    "fan2.changeOn(False)\n",
    "fan2.changeRadius(5)\n",
    "fan2.changeColor('red')\n",
    "print('The speed is ', fan2.getSpeed())\n",
    "print('The radius is ', fan2.getRadius())\n",
    "print('The Color is ', fan2.getColor())\n",
    "print('The on is ', fan2.getOn())"
   ]
  },
  {
   "cell_type": "markdown",
   "metadata": {},
   "source": [
    "- 4\n",
    "![](../Photo/94.png)\n",
    "![](../Photo/95.png)"
   ]
  },
  {
   "cell_type": "code",
   "execution_count": 52,
   "metadata": {
    "collapsed": true
   },
   "outputs": [],
   "source": [
    "import math\n",
    "\n",
    "class RegularPolygon():\n",
    "    def __init__(self, n=3, side=1, x=0, y=0):\n",
    "        self.__n = n\n",
    "        self.__side = side\n",
    "        self.x = x\n",
    "        self.y = y\n",
    "    def getN(self):\n",
    "        return self.__n\n",
    "    def getSide(self):\n",
    "        return self.__side\n",
    "    def getX(self):\n",
    "        return self.__x\n",
    "    def getY(self):\n",
    "        return self.__y\n",
    "    def setN(self, n):\n",
    "        self.__n = n\n",
    "    def setSide(self, side):\n",
    "        self.__side = side\n",
    "    def setX(self, x):\n",
    "        self.__x = x\n",
    "    def setY(self, y):\n",
    "        self.__y = y\n",
    "    def getPerimeter(self):\n",
    "        return self.__n * self.__side\n",
    "    def getArea(self):\n",
    "        area = self.__n * (self.__side ** 2) / (4 * math.tan(math.pi/self.__n))\n",
    "        return area\n",
    "        "
   ]
  },
  {
   "cell_type": "code",
   "execution_count": 54,
   "metadata": {},
   "outputs": [
    {
     "name": "stdout",
     "output_type": "stream",
     "text": [
      "边长为1的正3边形的周长为3.00，面积为0.43\n",
      "边长为4的正6边形的周长为24.00，面积为41.57\n",
      "边长为4的正10边形的周长为40.00，面积为123.11\n"
     ]
    }
   ],
   "source": [
    "regu1 = RegularPolygon()\n",
    "regu2 = RegularPolygon(6, 4)\n",
    "regu3 = RegularPolygon(10, 4, 5.6, 7.8)\n",
    "print('边长为%d的正%d边形的周长为%.2f，面积为%.2f' \\\n",
    "      %(regu1.getSide(), regu1.getN(), regu1.getPerimeter(), regu1.getArea()))\n",
    "print('边长为%d的正%d边形的周长为%.2f，面积为%.2f' \\\n",
    "      %(regu2.getSide(), regu2.getN(), regu2.getPerimeter(), regu2.getArea()))\n",
    "print('边长为%d的正%d边形的周长为%.2f，面积为%.2f' \\\n",
    "      %(regu3.getSide(), regu3.getN(), regu3.getPerimeter(), regu3.getArea()))"
   ]
  },
  {
   "cell_type": "markdown",
   "metadata": {},
   "source": [
    "- 5\n",
    "![](../Photo/96.png)"
   ]
  },
  {
   "cell_type": "code",
   "execution_count": 55,
   "metadata": {
    "collapsed": true
   },
   "outputs": [],
   "source": [
    "class LinearEquation():\n",
    "    def __init__(self, a, b, c, d, e, f):\n",
    "        self.__a = a\n",
    "        self.__b = b\n",
    "        self.__c = c\n",
    "        self.__d = d\n",
    "        self.__e = e\n",
    "        self.__f = f\n",
    "    def getA(self):\n",
    "        return self.__a\n",
    "    def getB(self):\n",
    "        return self.__b\n",
    "    def getC(self):\n",
    "        return self.__c\n",
    "    def getD(self):\n",
    "        return self.__d\n",
    "    def getE(self):\n",
    "        return self.__e\n",
    "    def getF(self):\n",
    "        return self.__f\n",
    "    def isSolvable(self):\n",
    "        if self.__a * self.__d != self.__b * self.__c:\n",
    "            return True\n",
    "        else:\n",
    "            return False\n",
    "    def getX(self):\n",
    "        return (self.__e*self.__d - self.__b*self.__f)/(self.__a * self.__d - self.__b * self.__c)\n",
    "    def getY(self):\n",
    "        return (self.__a*self.__f - self.__e*self.__c)/(self.__a * self.__d - self.__b * self.__c)\n",
    "        "
   ]
  },
  {
   "cell_type": "code",
   "execution_count": 57,
   "metadata": {},
   "outputs": [
    {
     "name": "stdout",
     "output_type": "stream",
     "text": [
      "Enter a:1\n",
      "Enter b:2\n",
      "Enter c:2\n",
      "Enter d:4\n",
      "Enter e:4\n",
      "Enter f:5\n",
      "这个方程无解\n"
     ]
    }
   ],
   "source": [
    "def main():\n",
    "    a = eval(input('Enter a:'))\n",
    "    b = eval(input('Enter b:'))\n",
    "    c = eval(input('Enter c:'))\n",
    "    d = eval(input('Enter d:'))\n",
    "    e = eval(input('Enter e:'))\n",
    "    f = eval(input('Enter f:'))\n",
    "    equation = LinearEquation(a, b, c, d, e, f)\n",
    "    if equation.isSolvable() == True:\n",
    "        print('X = %.2f, Y = %.2f' %(equation.getX(), equation.getY()))\n",
    "    else:\n",
    "        print('这个方程无解')\n",
    "main()"
   ]
  },
  {
   "cell_type": "markdown",
   "metadata": {},
   "source": [
    "- 6\n",
    "![](../Photo/97.png)"
   ]
  },
  {
   "cell_type": "code",
   "execution_count": 60,
   "metadata": {
    "collapsed": true
   },
   "outputs": [],
   "source": [
    "\n",
    "class Equation():\n",
    "    def __init__(self, x1, y1, x2, y3):\n",
    "        self.__x1 = x1\n",
    "        self.__y1 = y1\n",
    "        self.__x2 = x2\n",
    "        self.__y2 = y2\n",
    "    def getEquation(self):\n",
    "        a = self.__y2 - self.__y1\n",
    "        b = -(self.__x2 - self.__x1)\n",
    "        e = (self.__y2-self.__y1)*self.__x1 - (self.__x2-self.__x1)*self.__y1\n",
    "        return a, b, e"
   ]
  },
  {
   "cell_type": "code",
   "execution_count": 61,
   "metadata": {},
   "outputs": [
    {
     "name": "stdout",
     "output_type": "stream",
     "text": [
      "输入第一条线段的两个端点:2, 2, 0, 0\n",
      "输入第二条线段的两个端点:0, 2, 2, 0\n",
      "X = 1.00, Y = 1.00\n"
     ]
    }
   ],
   "source": [
    "x1, y1, x2, y2= eval(input('输入第一条线段的两个端点:'))\n",
    "x3, y3, x4, y4= eval(input('输入第二条线段的两个端点:'))\n",
    "Equ1 = Equation(x1, y1, x2, y2)\n",
    "Equ2 = Equation(x3, y3, x4, y4)\n",
    "a, b, e = Equ1.getEquation()\n",
    "c, d, f = Equ2.getEquation()\n",
    "equation = LinearEquation(a, b, c, d, e, f)\n",
    "if equation.isSolvable() == True:\n",
    "    print('X = %.2f, Y = %.2f' %(equation.getX(), equation.getY()))\n",
    "else:\n",
    "    print('这个方程无解')"
   ]
  },
  {
   "cell_type": "markdown",
   "metadata": {},
   "source": [
    "- 7\n",
    "![](../Photo/98.png)"
   ]
  },
  {
   "cell_type": "markdown",
   "metadata": {},
   "source": [
    "- 8 进阶\n",
    "- 定义一个子类，一个父类\n",
    "    - 父类产生随机数\n",
    "    - 子类一直判定该随机数是奇数还是偶数\n",
    "        - 该例子实际上就是一个粗浅的分布式"
   ]
  },
  {
   "cell_type": "code",
   "execution_count": 64,
   "metadata": {
    "collapsed": true
   },
   "outputs": [],
   "source": [
    "import random\n",
    "\n",
    "class father1():\n",
    "    def __init__(self):\n",
    "        self.Random = None\n",
    "    def create_num(self):\n",
    "        self.Random = random.randint(0, 100)\n",
    "        return self.Random\n",
    "class Son1(father1):\n",
    "    def __init__(self):\n",
    "        father1.__init__(self)\n",
    "    def result(self):\n",
    "        for i in range(10):\n",
    "            res_num = self.create_num()\n",
    "            if res_num % 2 == 0:\n",
    "                print('%d 是偶数' %self.Random)\n",
    "            else:\n",
    "                print('%d 是奇数' %self.Random)"
   ]
  },
  {
   "cell_type": "code",
   "execution_count": 65,
   "metadata": {},
   "outputs": [
    {
     "name": "stdout",
     "output_type": "stream",
     "text": [
      "92 是偶数\n",
      "39 是奇数\n",
      "86 是偶数\n",
      "16 是偶数\n",
      "72 是偶数\n",
      "96 是偶数\n",
      "55 是奇数\n",
      "99 是奇数\n",
      "60 是偶数\n",
      "66 是偶数\n"
     ]
    }
   ],
   "source": [
    "Son1().result()"
   ]
  }
 ],
 "metadata": {
  "kernelspec": {
   "display_name": "Python 3",
   "language": "python",
   "name": "python3"
  },
  "language_info": {
   "codemirror_mode": {
    "name": "ipython",
    "version": 3
   },
   "file_extension": ".py",
   "mimetype": "text/x-python",
   "name": "python",
   "nbconvert_exporter": "python",
   "pygments_lexer": "ipython3",
   "version": "3.6.5"
  }
 },
 "nbformat": 4,
 "nbformat_minor": 2
}
